{
 "cells": [
  {
   "cell_type": "code",
   "execution_count": null,
   "id": "cb83faad",
   "metadata": {},
   "outputs": [],
   "source": [
    "import os\n",
    "\n",
    "# Python script to merge specific rows from \"data2eq.func\" files into multiple \"read\" files\n",
    "\n",
    "def merge_files(data_file, template_file, new_file):\n",
    "    # Read data from the data file\n",
    "    with open(data_file, 'r') as data_f:\n",
    "        data = data_f.readlines()\n",
    "\n",
    "    # Read data from the template file\n",
    "    with open(template_file, 'r') as template_f:\n",
    "        template_data = template_f.readlines()\n",
    "\n",
    "    # Extract rows from the data file excluding the last 3 columns\n",
    "    rows_to_insert = [line.split()[:-3] for line in data[25:145]]\n",
    "\n",
    "    # Replace rows in the template file with modified rows from the data file\n",
    "    template_data[25:145] = [' '.join(row) + '\\n' for row in rows_to_insert]\n",
    "\n",
    "    # Write the merged data to the new file\n",
    "    with open(new_file, 'w') as new_f:\n",
    "        new_f.writelines(template_data)\n",
    "\n",
    "      \n",
    "        \n",
    "if __name__ == \"__main__\":\n",
    "    template_file = \"functionality_3.data\"                                   #the whole pore-polymer having functionality (without equilibration) data file\n",
    "    \n",
    "    # Find all files starting with \"data2eq.func\" in the current directory\n",
    "    data_files = [file for file in os.listdir() if file.startswith(\"data3eq.func\")]              #where data3eq.func is the file from where we have to extract the equilibrated polymer data \n",
    "\n",
    "    if not data_files:\n",
    "        print(\"No files found with the pattern 'data3eq.func'\")\n",
    "    else:\n",
    "        for data_file in data_files:\n",
    "            # Extract the number from the filename (assumes format: data2eq.func_{number}.txt)\n",
    "            file_number = data_file.split(\"_\")[1].split(\".\")[0]  # Extract without converting to int\n",
    "            file_number2 = data_file.split(\"_\")[2].split(\".\")[0]  # Extract without converting to int\n",
    "            new_file = f\"read_{file_number}_{file_number2}.data\"\n",
    "\n",
    "            merge_files(data_file, template_file, new_file)\n",
    "\n",
    "            print(f\"Files merged successfully. Merged data from {data_file} saved to {new_file}.\")\n"
   ]
  }
 ],
 "metadata": {
  "kernelspec": {
   "display_name": "Python 3 (ipykernel)",
   "language": "python",
   "name": "python3"
  },
  "language_info": {
   "codemirror_mode": {
    "name": "ipython",
    "version": 3
   },
   "file_extension": ".py",
   "mimetype": "text/x-python",
   "name": "python",
   "nbconvert_exporter": "python",
   "pygments_lexer": "ipython3",
   "version": "3.9.12"
  }
 },
 "nbformat": 4,
 "nbformat_minor": 5
}
